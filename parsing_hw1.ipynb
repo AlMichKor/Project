{
 "cells": [
  {
   "cell_type": "markdown",
   "id": "54fbb2d5",
   "metadata": {},
   "source": [
    "#### Посмотреть документацию к API GitHub,разобраться как вывести список репозиториев для конкретного пользователя, сохранить JSON-вывод в файле *.json. "
   ]
  },
  {
   "cell_type": "code",
   "execution_count": 19,
   "id": "8694c4b3",
   "metadata": {},
   "outputs": [],
   "source": [
    "import requests\n",
    "import json"
   ]
  },
  {
   "cell_type": "code",
   "execution_count": 17,
   "id": "f40f20af",
   "metadata": {},
   "outputs": [],
   "source": [
    "req = requests.get(\"https://api.github.com/users/AlMichKor/repos\")"
   ]
  },
  {
   "cell_type": "code",
   "execution_count": 18,
   "id": "5268296f",
   "metadata": {},
   "outputs": [],
   "source": [
    "with open(r'C:\\Users\\amkorotkov\\Desktop\\GB\\Парсинг\\hw1.txt', 'w') as outfile:\n",
    "    json.dump(req.json(), outfile)"
   ]
  },
  {
   "cell_type": "markdown",
   "id": "d7cf0e0c",
   "metadata": {},
   "source": [
    "#### 2. Изучить список открытых API (https://www.programmableweb.com/category/all/apis). Найти среди них любое, требующее авторизацию (любого типа). Выполнить запросы к нему, пройдя авторизацию. Ответ сервера записать в файл. Если нет желания заморачиваться с поиском, возьмите API вконтакте (https://vk.com/dev/first_guide). Сделайте запрос, чтобы получить список всех сообществ на которые вы подписаны."
   ]
  },
  {
   "cell_type": "code",
   "execution_count": null,
   "id": "7d23f9d2",
   "metadata": {},
   "outputs": [],
   "source": [
    "token = 'vk1.a.Snl4hfk11gCBy4njnSen_2Tp7jKT_ggzpgoizPJi_2FYs21sHorRJmBU6LZf_j5deUvWY-e-cWEcW0IqcMEcT41AxqmIMVtdfB915OKZoLboY6gcMtSU21m_7FFVvyx5nEX5_Ut_5jDuYQwX4LzMhsxGbsvvj_NpfICTohL3sTff1'\n",
    "user_id = 649910434 \n",
    "param = {'access_token': token, 'user_id': user_id, 'v': 5.131}\n",
    "method = 'groups.get'\n",
    "req2 = requests.get(url=f'https://api.vk.com/method/{method}', params=param)"
   ]
  }
 ],
 "metadata": {
  "kernelspec": {
   "display_name": "Python 3 (ipykernel)",
   "language": "python",
   "name": "python3"
  },
  "language_info": {
   "codemirror_mode": {
    "name": "ipython",
    "version": 3
   },
   "file_extension": ".py",
   "mimetype": "text/x-python",
   "name": "python",
   "nbconvert_exporter": "python",
   "pygments_lexer": "ipython3",
   "version": "3.10.2"
  }
 },
 "nbformat": 4,
 "nbformat_minor": 5
}
